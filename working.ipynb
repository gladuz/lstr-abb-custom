{
 "cells": [
  {
   "cell_type": "code",
   "execution_count": 1,
   "metadata": {},
   "outputs": [],
   "source": [
    "import json"
   ]
  },
  {
   "cell_type": "code",
   "execution_count": 12,
   "metadata": {},
   "outputs": [],
   "source": [
    "di = json.load(open(\"data/data_info.json\"))"
   ]
  },
  {
   "cell_type": "code",
   "execution_count": null,
   "metadata": {},
   "outputs": [],
   "source": [
    "di['THUMOS']['train_session_set']"
   ]
  },
  {
   "cell_type": "code",
   "execution_count": null,
   "metadata": {},
   "outputs": [],
   "source": [
    "import os\n",
    "import random\n",
    "random.seed(43)\n",
    "full_data = [s.replace(\".npy\", \"\") for s in os.listdir(\"data/ABB/target_perframe\")]\n",
    "shuffled_data = random.shuffle(full_data)\n",
    "train_set = full_data[:int(len(full_data)*0.9)]\n",
    "val_set = full_data[int(len(full_data)*0.9):]"
   ]
  },
  {
   "cell_type": "code",
   "execution_count": null,
   "metadata": {},
   "outputs": [],
   "source": [
    "len([s for s in val_set if \"trespass\" in s])"
   ]
  },
  {
   "cell_type": "code",
   "execution_count": null,
   "metadata": {},
   "outputs": [],
   "source": [
    "abb_dict = {\n",
    "    \"data_root\": \"data/ABB\",\n",
    "    \"class_names\": ['normal', 'assault', 'wander', 'trespass'],\n",
    "    \"num_classes\": 4,\n",
    "    \"ignore_index\": -1,\n",
    "    \"metrics\": \"AP\",\n",
    "    \"fps\": 5,\n",
    "    \"train_session_set\": train_set,\n",
    "    \"test_session_set\": val_set\n",
    "}"
   ]
  },
  {
   "cell_type": "code",
   "execution_count": null,
   "metadata": {},
   "outputs": [],
   "source": [
    "di[\"ABB\"] = abb_dict\n",
    "json.dump(di, open(\"data/data_info.json\", \"w\"))"
   ]
  },
  {
   "cell_type": "code",
   "execution_count": 24,
   "metadata": {},
   "outputs": [],
   "source": [
    "import numpy as np\n",
    "import os\n",
    "lengths = []\n",
    "train_names = di['ABB']['train_session_set']\n",
    "val_names = di['ABB']['test_session_set']\n",
    "for f in train_names:\n",
    "    if 'trespass' in f:\n",
    "        data = np.load(f\"data/ABB/target_perframe/{f}.npy\")\n",
    "        classes = np.argmax(data, axis=1)\n",
    "        lengths.append(np.count_nonzero(classes == 3))\n",
    "for f in val_names:\n",
    "    if 'trespass' in f:\n",
    "        data = np.load(f\"data/ABB/target_perframe/{f}.npy\")\n",
    "        classes = np.argmax(data, axis=1)\n",
    "        lengths.append(np.count_nonzero(classes == 3))"
   ]
  },
  {
   "cell_type": "code",
   "execution_count": 26,
   "metadata": {},
   "outputs": [
    {
     "ename": "TypeError",
     "evalue": "unsupported operand type(s) for /: 'list' and 'int'",
     "output_type": "error",
     "traceback": [
      "\u001b[0;31m---------------------------------------------------------------------------\u001b[0m",
      "\u001b[0;31mTypeError\u001b[0m                                 Traceback (most recent call last)",
      "\u001b[1;32m/home/ict06/dev/long-short-term-transformer/working.ipynb Cell 9\u001b[0m line \u001b[0;36m1\n\u001b[0;32m----> <a href='vscode-notebook-cell://ssh-remote%2B155.230.134.107/home/ict06/dev/long-short-term-transformer/working.ipynb#X11sdnNjb2RlLXJlbW90ZQ%3D%3D?line=0'>1</a>\u001b[0m np\u001b[39m.\u001b[39msort(lengths \u001b[39m/\u001b[39;49m \u001b[39m5\u001b[39;49m)\n",
      "\u001b[0;31mTypeError\u001b[0m: unsupported operand type(s) for /: 'list' and 'int'"
     ]
    }
   ],
   "source": [
    "np.sort(np.array(lengths) / 5)"
   ]
  },
  {
   "cell_type": "code",
   "execution_count": 23,
   "metadata": {},
   "outputs": [
    {
     "data": {
      "text/plain": [
       "array([ 165,  165,  327,  355,  503,  504,  508,  512,  523,  533,  535,\n",
       "        536,  558,  584,  587,  588,  618,  623,  625,  656,  666,  666,\n",
       "        765,  773,  775,  794,  797,  840,  853,  885,  897,  897,  903,\n",
       "        903,  908,  925,  975,  981,  983, 1005, 1055, 1075, 1092, 1094,\n",
       "       1094, 1096, 1103, 1107, 1183, 1185, 1215, 1221, 1246, 1249, 1253,\n",
       "       1277, 1279, 1294, 1294, 1323, 1358, 1374, 1375, 1408, 1430, 1457,\n",
       "       1465, 1468, 1480, 1497, 1515, 1516, 1520, 1520, 1533, 1536, 1563,\n",
       "       1564, 1574, 1580])"
      ]
     },
     "execution_count": 23,
     "metadata": {},
     "output_type": "execute_result"
    }
   ],
   "source": [
    "np.sort(lengths)"
   ]
  },
  {
   "cell_type": "code",
   "execution_count": null,
   "metadata": {},
   "outputs": [],
   "source": []
  }
 ],
 "metadata": {
  "kernelspec": {
   "display_name": "torch18",
   "language": "python",
   "name": "python3"
  },
  "language_info": {
   "codemirror_mode": {
    "name": "ipython",
    "version": 3
   },
   "file_extension": ".py",
   "mimetype": "text/x-python",
   "name": "python",
   "nbconvert_exporter": "python",
   "pygments_lexer": "ipython3",
   "version": "3.8.11"
  }
 },
 "nbformat": 4,
 "nbformat_minor": 2
}
